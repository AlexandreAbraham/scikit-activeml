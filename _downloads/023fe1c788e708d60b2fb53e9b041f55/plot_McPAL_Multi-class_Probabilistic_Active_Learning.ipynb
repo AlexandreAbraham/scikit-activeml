{
  "cells": [
    {
      "cell_type": "code",
      "execution_count": null,
      "metadata": {
        "collapsed": false
      },
      "outputs": [],
      "source": [
        "%matplotlib inline"
      ]
    },
    {
      "cell_type": "markdown",
      "metadata": {},
      "source": [
        "\n# Multi-class Probabilistic Active Learning\n"
      ]
    },
    {
      "cell_type": "code",
      "execution_count": null,
      "metadata": {
        "collapsed": false
      },
      "outputs": [],
      "source": [
        "import numpy as np\nfrom matplotlib import pyplot as plt, animation\nfrom sklearn.datasets import make_blobs\nfrom skactiveml.utils import MISSING_LABEL, unlabeled_indices, labeled_indices\nfrom skactiveml.visualization import plot_utility, plot_decision_boundary\nfrom skactiveml.pool import McPAL\nfrom skactiveml.classifier import PWC\n\nrandom_state = np.random.RandomState(0)\n\n# Build a dataset.\nX, y_true = make_blobs(n_samples=100, n_features=2,\n                  centers=[[0, 1], [-3, .5], [-1, -1], [2, 1], [1, -.5]],\n                  cluster_std=.7, random_state=random_state)\ny_true = y_true % 2\ny = np.full(shape=y_true.shape, fill_value=MISSING_LABEL)\n\n# Initialise the classifier.\nclf = PWC(classes=[0, 1], random_state=random_state)\n# Initialise the query strategy.\nqs = McPAL(random_state=random_state)\ndens_est = clf.fit(X, np.zeros(len(X)))\ndens = clf.predict_freq(X)[:,0]\n\n# Preparation for plotting.\nfig, ax = plt.subplots()\nfeature_bound = [[min(X[:, 0]), min(X[:, 1])], [max(X[:, 0]), max(X[:, 1])]]\nartists = []\n\nimport os\nif os.getenv('N_CYCLES'):\n    print('Looks like N_CYCLES!')\nelse:\n    print('Ohhh... There is no N_CYCLES!')\n\n# The active learning cycle:\nn_cycles = 25\nfor c in range(n_cycles):\n    # Fit the classifier.\n    clf.fit(X, y)\n\n    # Set X_cand to the unlabeled instances.\n    unlbld_idx = unlabeled_indices(y)\n    X_cand = X[unlbld_idx]\n    X_labeled = X[labeled_indices(y)]\n\n    # Query the next instance/s.\n    query_params = {\"clf\": clf, \"utility_weight\": dens[unlbld_idx], \"X\": X, \"y\": y}\n    query_idx = unlbld_idx[qs.query(X_cand, **query_params)]\n\n    # Plot the labeled data.\n    coll_old = list(ax.collections)\n    title = ax.text(\n        0.5, 1.05, f\"Decision boundry after acquring {c} labels\",\n        size=plt.rcParams[\"axes.titlesize\"], ha=\"center\",\n        transform=ax.transAxes\n    )\n    ax = plot_utility(qs, {'clf': clf, 'X': X, 'y': y, 'utility_weight': dens}, X_cand=X, feature_bound=feature_bound, ax=ax)\n    ax.scatter(X[:, 0], X[:, 1], c=y_true, cmap=\"coolwarm\", marker=\".\", zorder=2)\n    ax.scatter(X_labeled[:, 0], X_labeled[:, 1], c=\"grey\", alpha=.8, marker=\".\", s=300)\n    ax = plot_decision_boundary(clf, feature_bound, ax=ax)\n\n    coll_new = list(ax.collections)\n    coll_new.append(title)\n    artists.append([x for x in coll_new if (x not in coll_old)])\n\n    # Label the queried instances.\n    y[query_idx] = y_true[query_idx]\n\nani = animation.ArtistAnimation(fig, artists, interval=1000, blit=True)"
      ]
    },
    {
      "cell_type": "markdown",
      "metadata": {},
      "source": [
        ".. rubric:: References:\n\nThe implementation of this strategy is based on :footcite:t:`kottke2016multi`.\n\n.. footbibliography::\n\n"
      ]
    }
  ],
  "metadata": {
    "kernelspec": {
      "display_name": "Python 3",
      "language": "python",
      "name": "python3"
    },
    "language_info": {
      "codemirror_mode": {
        "name": "ipython",
        "version": 3
      },
      "file_extension": ".py",
      "mimetype": "text/x-python",
      "name": "python",
      "nbconvert_exporter": "python",
      "pygments_lexer": "ipython3",
      "version": "3.9.8"
    }
  },
  "nbformat": 4,
  "nbformat_minor": 0
}