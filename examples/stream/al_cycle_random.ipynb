{
 "cells": [
  {
   "cell_type": "markdown",
   "metadata": {},
   "source": [
    "# Stream active learning cycle\n",
    "In this notebook, we will show how stream-based active learning strategies are used and compared them to one another. We showcase the methods available in the stream package. "
   ]
  },
  {
   "cell_type": "code",
   "execution_count": null,
   "metadata": {},
   "outputs": [],
   "source": [
    "import sys\n",
    "sys.path.append('../..')\n",
    "\n",
    "import numpy as np\n",
    "import sklearn\n",
    "import sklearn.datasets\n",
    "import matplotlib.pyplot as plt\n",
    "import copy\n",
    "from collections import deque\n",
    "from skactiveml.classifier import PWC\n",
    "from skactiveml.stream import RandomSampler, PeriodicSampler\n",
    "from skactiveml.stream import FixedUncertainty, VariableUncertainty, Split, PALS\n",
    "from skactiveml.stream.budget_manager import FixedBudget\n",
    "from skactiveml.utils import call_func"
   ]
  },
  {
   "cell_type": "markdown",
   "metadata": {},
   "source": [
    "## Initialize stream Parameters\n",
    "Before the experiments can start, we need to construct a random data set. For this, we specify the necessary parameters in the cell below. To make the experiment repeatable, we will use the random_state object to generate all other random seeds, such that we only need to explicitly specify a single random seed. Furthermore, we specify the length of the data stream (stream_length) and the size of the sliding window that defines the available training data (training_size)."
   ]
  },
  {
   "cell_type": "code",
   "execution_count": null,
   "metadata": {},
   "outputs": [],
   "source": [
    "# random state that is used to generate random seeds\n",
    "random_state = np.random.RandomState(0)\n",
    "# number of instances that are provided to the classifier\n",
    "init_train_length = 10\n",
    "# the length of the data stream\n",
    "stream_length = 10000\n",
    "# the size of the sliding window that limits the training data\n",
    "training_size = 1000"
   ]
  },
  {
   "cell_type": "markdown",
   "metadata": {},
   "source": [
    "## Random seed generation\n",
    "The get_randomseed function simplifies the generation of a new random seed from a given random state object. For this notebook, this random state object will be always the random_state obejct defined above."
   ]
  },
  {
   "cell_type": "code",
   "execution_count": null,
   "metadata": {},
   "outputs": [],
   "source": [
    "def get_randomseed(random_state):\n",
    "    return random_state.randint(2**31-1)"
   ]
  },
  {
   "cell_type": "markdown",
   "metadata": {},
   "source": [
    "## Generate and initialize data set\n",
    "The next block initializes the tested data set. We use scikit-learn to generate a random dataset with our pre-defined stream length. The data set consists of multiple parts. X represents the location of the instance within the feature space. The class for each instance is denoted by y. \n",
    "For models that need at least some initial training data, we generate samples to train an initial model. These are denoted by the suffix \"_init\", while all data used within the active learning cycle are denoted by the suffix \"_stream\"."
   ]
  },
  {
   "cell_type": "code",
   "execution_count": null,
   "metadata": {},
   "outputs": [],
   "source": [
    "X, y = sklearn.datasets.make_classification(n_samples=init_train_length + stream_length, random_state=get_randomseed(random_state), shuffle=True)\n",
    "X_init = X[:init_train_length, :]\n",
    "y_init = y[:init_train_length]\n",
    "X_stream = X[init_train_length:, :]\n",
    "y_stream = y[init_train_length:]"
   ]
  },
  {
   "cell_type": "markdown",
   "metadata": {},
   "source": [
    "## Initialize query strategies\n",
    "Next, we initialize the classifier and the base query strategies that we want to compare. To guarantee that the classifier is not affected by previous repetitions, we use factory functions to separate the classifier for each experiment run. Since all query strategies hav ea defaulr budget manag,,r we uset hat for the sake of simplicity."
   ]
  },
  {
   "cell_type": "code",
   "execution_count": null,
   "metadata": {},
   "outputs": [],
   "source": [
    "clf_factory = lambda: PWC(classes=[0,1], random_state=get_randomseed(random_state))\n",
    "query_strategies = {\n",
    "    'RandomSampler': RandomSampler(random_state=get_randomseed(random_state)),\n",
    "    'PeriodicSampler': PeriodicSampler(random_state=get_randomseed(random_state)),\n",
    "    'FixedUncertainty': FixedUncertainty(random_state=get_randomseed(random_state)),\n",
    "    'VariableUncertainty': VariableUncertainty(random_state=get_randomseed(random_state)),\n",
    "    'Split': Split(random_state=get_randomseed(random_state)),\n",
    "    'PALS': PALS(random_state=get_randomseed(random_state))\n",
    "}"
   ]
  },
  {
   "cell_type": "markdown",
   "metadata": {},
   "source": [
    "## Start the active learning cycle\n",
    "After all, variables are initialized, we can start the experiment. The experiment loop below goes through all query strategies defined in query_strategies. For each experiment run, the average accuracy of the selected query strategies will be displayed. Lastly, the accuracy over time will be plotted."
   ]
  },
  {
   "cell_type": "code",
   "execution_count": null,
   "metadata": {},
   "outputs": [],
   "source": [
    "for query_strategy_name, query_strategy in query_strategies.items():\n",
    "    clf = clf_factory()\n",
    "    # initializing the training data\n",
    "    X_train = deque(maxlen=training_size)\n",
    "    X_train.extend(X_init)\n",
    "    y_train = deque(maxlen=training_size)\n",
    "    y_train.extend(y_init)\n",
    "    # train the model with the initially available data\n",
    "    clf.fit(X_train, y_train)\n",
    "    # initialize the list that stores the result of the classifier's prediction\n",
    "    correct_classifications = []\n",
    "    count = 0\n",
    "    for t, (x_t, y_t) in enumerate(zip(X_stream, y_stream)):\n",
    "        X_cand = x_t.reshape([1, -1])\n",
    "        y_cand = y_t\n",
    "        correct_classifications.append(clf.predict(X_cand)[0] == y_cand)\n",
    "        # check whether to sample the instance or not\n",
    "        # call_func is used since a classifier is not needed for RandomSampler and PeriodicSampler\n",
    "        sampled_indices, utilities = call_func(query_strategy.query, X_cand=X_cand, clf=clf, return_utilities=True)\n",
    "        # create budget_manager_param_dict for budget manager BIQF\n",
    "        budget_manager_param_dict = {\"utilities\": utilities}\n",
    "        # update the query strategy and budget_manager to calculate the right budget\n",
    "        query_strategy.update(X_cand, sampled_indices, budget_manager_param_dict)\n",
    "        if len(sampled_indices):\n",
    "            count += 1\n",
    "        X_train.append(x_t)\n",
    "        y_train.append(y_cand if len(sampled_indices) > 0 else clf.missing_label)\n",
    "        # train the classifier\n",
    "        clf.fit(X_train, y_train)\n",
    "    # calculate and show the average accuracy \n",
    "    print(\"Query Strategy: \", query_strategy_name, \", Avg Accuracy: \", np.sum(correct_classifications)/stream_length, \", Acquisation count:\", count)\n",
    "    cumsum_correct_classifications = np.cumsum(correct_classifications)\n",
    "    # smoothing the accuracy for plotting\n",
    "    smoothing_window_length = 100\n",
    "    plt.plot((cumsum_correct_classifications[smoothing_window_length:]-cumsum_correct_classifications[:-smoothing_window_length])/smoothing_window_length, label=query_strategy_name)\n",
    "plt.legend()"
   ]
  }
 ],
 "metadata": {
  "interpreter": {
   "hash": "4b214dd2c9a44f12a1833edb4921179114be61850b6456c57ef3370ef440c7a3"
  },
  "kernelspec": {
   "display_name": "Python 3.8.5 64-bit ('scikit-activeml': conda)",
   "name": "python3"
  },
  "language_info": {
   "codemirror_mode": {
    "name": "ipython",
    "version": 3
   },
   "file_extension": ".py",
   "mimetype": "text/x-python",
   "name": "python",
   "nbconvert_exporter": "python",
   "pygments_lexer": "ipython3",
   "version": "3.8.5"
  }
 },
 "nbformat": 4,
 "nbformat_minor": 4
}
